{
 "cells": [
  {
   "cell_type": "markdown",
   "metadata": {},
   "source": [
    "## TakeAway 1: Visualizing the Data Structure\n",
    "\n",
    "Raymond showed us [Visualize Python](http://www.pythontutor.com/visualize.html#mode=edit), a unique website that uncovers the true nature of objects in Python.  \n",
    "\n",
    "This website is gnarly!  It enlightens a few points:\n",
    "1.  Lists just point to stuff\n",
    "2.  A list can point to anything, including other lists\n",
    "3. Lists are objects that have useful functionality, like indexing, that really leverage its identity as an object\n",
    "\n",
    "For instance, suppose you had this following 'skeleton' of a list that intends to describe the hierarchical structure of a corporation:\n",
    "\n",
    "\n"
   ]
  },
  {
   "cell_type": "code",
   "execution_count": 13,
   "metadata": {},
   "outputs": [],
   "source": [
    "TITLE_NAME, TOP, BOTTOM = 0, 1, 2"
   ]
  },
  {
   "cell_type": "markdown",
   "metadata": {},
   "source": [
    "This means that the 0th index will be the actual name of the title. The first index will return a subset (a list) of the hierarchy above this index, and the bottom index will return a subset (a list) of the hierarchy below this index. \n",
    "\n",
    "The CEO will have no one on top of him.  "
   ]
  },
  {
   "cell_type": "code",
   "execution_count": 14,
   "metadata": {},
   "outputs": [],
   "source": [
    "first = ['CEO', None, None]\n",
    "second = first[BOTTOM]=['VP', first, None]"
   ]
  },
  {
   "cell_type": "code",
   "execution_count": 15,
   "metadata": {},
   "outputs": [
    {
     "name": "stdout",
     "output_type": "stream",
     "text": [
      "None\n"
     ]
    }
   ],
   "source": [
    "print(first[TOP])"
   ]
  },
  {
   "cell_type": "markdown",
   "metadata": {},
   "source": [
    "That makes sense because no one is on top of the CEO"
   ]
  },
  {
   "cell_type": "code",
   "execution_count": 16,
   "metadata": {},
   "outputs": [
    {
     "name": "stdout",
     "output_type": "stream",
     "text": [
      "VP\n"
     ]
    }
   ],
   "source": [
    "print(first[BOTTOM][TITLE_NAME])"
   ]
  },
  {
   "cell_type": "markdown",
   "metadata": {},
   "source": [
    "See how indexing can leverage the notion of a list being an object?"
   ]
  },
  {
   "cell_type": "code",
   "execution_count": 17,
   "metadata": {},
   "outputs": [],
   "source": [
    "third = second[BOTTOM] = ['Senior Exec', second, None]\n",
    "fourth = third[BOTTOM] = ['Exec', third, None]\n",
    "fifth = fourth[BOTTOM] = ['Manager', fourth, None]"
   ]
  },
  {
   "cell_type": "code",
   "execution_count": 18,
   "metadata": {},
   "outputs": [
    {
     "data": {
      "text/plain": [
       "'CEO'"
      ]
     },
     "execution_count": 18,
     "metadata": {},
     "output_type": "execute_result"
    }
   ],
   "source": [
    "third[TOP][TOP][TITLE_NAME]"
   ]
  },
  {
   "cell_type": "markdown",
   "metadata": {},
   "source": [
    "The skeleton of our list also allowed us to write code that is intuitive and logical. For example, the above code returns the object that is two levels above the third object, which in this case, is the CEO"
   ]
  },
  {
   "cell_type": "markdown",
   "metadata": {},
   "source": [
    "If you copy and paste a code like this on the website, you get an image that resembles this:\n",
    "![alt text](visualize_lists.png/ \"Logo Title Text 1\")"
   ]
  },
  {
   "cell_type": "markdown",
   "metadata": {},
   "source": [
    "The visualization here sheds light on the true nature of lists -- they're just objects that point to other objects, in this case, either strings or lists.\n"
   ]
  },
  {
   "cell_type": "markdown",
   "metadata": {},
   "source": [
    "____________________________________________________________________"
   ]
  },
  {
   "cell_type": "markdown",
   "metadata": {},
   "source": [
    "## TakeAway2: Elegant construction of Binary Tree"
   ]
  },
  {
   "cell_type": "markdown",
   "metadata": {},
   "source": [
    "With the same logic, we can construct a binary tree that depicts domestic relationships and hierarchies."
   ]
  },
  {
   "cell_type": "code",
   "execution_count": 19,
   "metadata": {},
   "outputs": [],
   "source": [
    "NAME, MAMA, BABA = 0, 1, 2 \n",
    "\n",
    "def person(name,mama=None,baba=None):  #by default, mama and baba point to None\n",
    "    return [name, mama, baba]\n",
    "\n",
    "elize = person('Elize')\n",
    "hagop = person('Hagop')\n",
    "\n",
    "hripsime = person('Hripsime')\n",
    "garabed = person('Garabed')\n",
    "\n",
    "levon = person('Levon', elize, hagop)\n",
    "silva = person('Silva', hripsime, garabed)\n",
    "\n",
    "elizabeth = person('Elizabeth', silva, levon)\n"
   ]
  },
  {
   "cell_type": "code",
   "execution_count": 20,
   "metadata": {},
   "outputs": [
    {
     "name": "stdout",
     "output_type": "stream",
     "text": [
      "Grandfathers: \n",
      "|- (maternal) Garabed\n",
      "|- (paternal) Hagop\n"
     ]
    }
   ],
   "source": [
    "print('Grandfathers: ')\n",
    "print('|- (maternal)', elizabeth[MAMA][BABA][NAME])\n",
    "print('|- (paternal)', elizabeth[BABA][BABA][NAME])"
   ]
  },
  {
   "cell_type": "code",
   "execution_count": 21,
   "metadata": {},
   "outputs": [
    {
     "name": "stdout",
     "output_type": "stream",
     "text": [
      "Grandmothers: \n",
      "|- (maternal) Hripsime\n",
      "|- (paternal) Elize\n"
     ]
    }
   ],
   "source": [
    "print('Grandmothers: ')\n",
    "print('|- (maternal)', elizabeth[MAMA][MAMA][NAME])\n",
    "print('|- (paternal)', elizabeth[BABA][MAMA][NAME])"
   ]
  },
  {
   "cell_type": "markdown",
   "metadata": {},
   "source": [
    "I love how elegant the function ```person``` looks. The code kind of looks like English!  One who doesn't know code really well or none at all would be able to understand what that function does.\n",
    "\n"
   ]
  },
  {
   "cell_type": "markdown",
   "metadata": {},
   "source": [
    "Since Raymond already went over pre-order and in-order, I will provide the code for postorder."
   ]
  },
  {
   "cell_type": "code",
   "execution_count": 37,
   "metadata": {},
   "outputs": [],
   "source": [
    "def postorder(p):\n",
    "    if p is None:\n",
    "        return []\n",
    "    return postorder(p[MAMA]) + postorder(p[BABA]) + [p[NAME]]"
   ]
  },
  {
   "cell_type": "code",
   "execution_count": 38,
   "metadata": {},
   "outputs": [
    {
     "data": {
      "text/plain": [
       "['Hripsime', 'Garabed', 'Silva', 'Elize', 'Hagop', 'Levon', 'Elizabeth']"
      ]
     },
     "execution_count": 38,
     "metadata": {},
     "output_type": "execute_result"
    }
   ],
   "source": [
    "postorder(elizabeth)"
   ]
  },
  {
   "cell_type": "code",
   "execution_count": 39,
   "metadata": {},
   "outputs": [
    {
     "data": {
      "text/plain": [
       "['Elizabeth',\n",
       " ['Silva', ['Hripsime', None, None], ['Garabed', None, None]],\n",
       " ['Levon', ['Elize', None, None], ['Hagop', None, None]]]"
      ]
     },
     "execution_count": 39,
     "metadata": {},
     "output_type": "execute_result"
    }
   ],
   "source": [
    "postorder(silva)\n",
    "elizabeth"
   ]
  },
  {
   "cell_type": "markdown",
   "metadata": {},
   "source": [
    "______________________________________________________"
   ]
  },
  {
   "cell_type": "markdown",
   "metadata": {},
   "source": [
    "## TakeAway3: easy to read data != reliable data\n",
    "\n",
    "* In case you do encounter data that looks like it's meant for humans to read it, convert it into a structure that would make it easier for a computer to read it.  \n",
    "* Sniffer tool in csv library can detect the separator in the data -- super cool!!\n",
    "* XML's terminology comes in hand when implementing XML parsers"
   ]
  },
  {
   "cell_type": "code",
   "execution_count": null,
   "metadata": {},
   "outputs": [],
   "source": []
  }
 ],
 "metadata": {
  "kernelspec": {
   "display_name": "Python 3",
   "language": "python",
   "name": "python3"
  },
  "language_info": {
   "codemirror_mode": {
    "name": "ipython",
    "version": 3
   },
   "file_extension": ".py",
   "mimetype": "text/x-python",
   "name": "python",
   "nbconvert_exporter": "python",
   "pygments_lexer": "ipython3",
   "version": "3.6.5"
  }
 },
 "nbformat": 4,
 "nbformat_minor": 2
}
